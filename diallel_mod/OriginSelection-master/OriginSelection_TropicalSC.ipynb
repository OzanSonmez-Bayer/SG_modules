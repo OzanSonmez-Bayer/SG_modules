{
 "cells": [
  {
   "cell_type": "code",
   "execution_count": 139,
   "metadata": {},
   "outputs": [],
   "source": [
    "import pandas as pd\n",
    "import numpy as np\n",
    "import requests\n",
    "import s3fs\n",
    "import MidParentValue as MP\n",
    "import rulefilter as rf\n",
    "import utils\n",
    "import master_table as mt\n",
    "import collections\n",
    "import re\n",
    "import os\n",
    "import warnings\n",
    "warnings.filterwarnings(\"ignore\")\n",
    "import dask\n",
    "from dask import delayed\n",
    "import dask.dataframe as dd\n",
    "from functools import reduce\n",
    "import itertools\n",
    "import time\n",
    "import json\n",
    "import hvac\n",
    "import boto3"
   ]
  },
  {
   "cell_type": "code",
   "execution_count": 140,
   "metadata": {},
   "outputs": [],
   "source": [
    "if 'ec2' in os.environ['HOME']:\n",
    "    master_file = utils.read_as_dask_1('ycao1/AoB/SweetCorn/Tropical/ABLUP/ABLUP_GCA_df_oneyear.csv', bucket='veg-apd-sdi-predictiveanalytcs-prod-workspace')\n",
    "else:\n",
    "    master_file = utils.read_as_dask('ycao1/AoB/SweetCorn/Tropical/ABLUP/ABLUP_GCA_df_oneyear.csv', bucket='veg-apd-sdi-predictiveanalytcs-prod-workspace')"
   ]
  },
  {
   "cell_type": "code",
   "execution_count": 141,
   "metadata": {},
   "outputs": [],
   "source": [
    "master_file = master_file.compute().set_index(pd.Index(range(master_file.compute().shape[0])))"
   ]
  },
  {
   "cell_type": "code",
   "execution_count": 142,
   "metadata": {},
   "outputs": [
    {
     "name": "stdout",
     "output_type": "stream",
     "text": [
      "_______Combine Id_Table_______\n",
      "Initial Size        (5670, 170) (2100493, 13)\n",
      "Removed 0 null germplasm\n",
      "Master Shape:       (6118, 177)\n",
      "_____Combine Marker_Table_____\n",
      "Initial Size        (6118, 177) (26187, 8)\n",
      "Master Shape:       (6118, 177)\n",
      "____Combine Parental_Table____\n",
      "Initial Size        (6118, 177) (1463898, 11)\n",
      "Master Shape:       (6118, 179)\n",
      "_____Combine Stage_Table______\n",
      "Initial Size        (6118, 179) (12209, 3)\n",
      "Master Shape:       (6118, 185)\n",
      "______Combine GPC_Table_______\n",
      "Initial Size        (6118, 185) (644842, 111)\n",
      "Master Shape:       (6118, 249)\n"
     ]
    },
    {
     "data": {
      "text/plain": [
       "True"
      ]
     },
     "execution_count": 142,
     "metadata": {},
     "output_type": "execute_result"
    }
   ],
   "source": [
    "# Generate the master table\n",
    "import master_table as mt\n",
    "\n",
    "id_table = utils.read_s3_file_generic(filename = 'Corn/Corn_IDs.csv', bucket = 'veg-apd-sdi-predictiveanalytcs-prod-reference-data')\n",
    "master_file_table = mt.combine_blup_id(master_file, id_table)\n",
    "\n",
    "marker_data = utils.read_s3_file_generic(filename = 'Corn/FTS_MarkerData_SweetCorn_2019.csv', bucket = 'veg-apd-sdi-predictiveanalytcs-prod-reference-data')\n",
    "\n",
    "master_file_table = mt.combine_blup_markerData(master_file_table, marker_data)\n",
    "\n",
    "parentalTable = utils.read_s3_file_generic(filename = 'Corn/Corn_Parentals.csv', bucket = 'veg-apd-sdi-predictiveanalytcs-prod-reference-data')\n",
    "\n",
    "master_file_table = mt.combine_blup_parental(master_file_table, parentalTable)\n",
    "\n",
    "stageData = utils.read_s3_file_generic(filename = 'ycao1/AoB/SweetCorn/Tropical/stage_count_dat.csv', bucket = 'veg-apd-sdi-predictiveanalytcs-prod-workspace')\n",
    "master_file_table = mt.combine_blup_stage(master_file_table, stageData)\n",
    "\n",
    "gpc_df = utils.read_s3_file_generic(filename = 'GPC_Data/Corn/Corn_GPC.csv', bucket = 'veg-apd-sdi-predictiveanalytcs-prod-pheno-data')\n",
    "master_file_table = mt.combine_blup_obs(master_file_table, gpc_df)\n",
    "\n",
    "master_file_table.to_csv('/mnt/TropicalSC/master_file_table_oneyear.csv')\n",
    "\n",
    "utils.upload_file(file_name = \"/mnt/TropicalSC/master_file_table_oneyear.csv\", bucket=\"veg-apd-sdi-predictiveanalytcs-prod-workspace\",\n",
    "            object_name = 'ycao1/AoB/SweetCorn/master_table/TropicalSC_ABLUP_GCA_master_table_oneyear.csv')"
   ]
  },
  {
   "cell_type": "code",
   "execution_count": 143,
   "metadata": {},
   "outputs": [],
   "source": [
    "master_file_table = utils.read_as_dask('ycao1/AoB/SweetCorn/master_table/TropicalSC_ABLUP_GCA_master_table_oneyear.csv', \n",
    "                                    bucket = 'veg-apd-sdi-predictiveanalytcs-prod-workspace')\n",
    "        \n",
    "        # add index\n",
    "master_file_table =  master_file_table.compute().set_index(pd.Index(range(master_file_table.compute().shape[0])))"
   ]
  },
  {
   "cell_type": "code",
   "execution_count": 144,
   "metadata": {},
   "outputs": [],
   "source": [
    "key_inbred = pd.read_csv('/mnt/TropicalSC/inbredline.csv')\n",
    "master_file_filtered = master_file_table[master_file_table['PEDIGREE_NAME'].isin(key_inbred['Pedigree'])]"
   ]
  },
  {
   "cell_type": "code",
   "execution_count": 145,
   "metadata": {},
   "outputs": [],
   "source": [
    "master_file_filtered = rf.filter_by_HETGP(master_file_filtered, het=['A', 'B', 'AB'])"
   ]
  },
  {
   "cell_type": "code",
   "execution_count": 146,
   "metadata": {},
   "outputs": [],
   "source": [
    "########### Getting Trait list \n",
    "# master_file_filtered = master_file\n",
    "# traits = [col for col in master_file_filtered.columns if '_predicted.value' in col]\n",
    "traits = [col for col in master_file_filtered.columns if 'predicted.value_' in col]\n",
    "traits_1 = []\n",
    "for tt in traits: \n",
    "    t_1 = re.sub('predicted.value_', '', tt)\n",
    "#     if (t_1 != 'SC_RWCT') & (t_1 != 'FBRIX'):\n",
    "    traits_1.append(t_1)"
   ]
  },
  {
   "cell_type": "code",
   "execution_count": 147,
   "metadata": {},
   "outputs": [],
   "source": [
    "test = MP.gather_mid_value(dd.from_pandas(master_file_filtered, npartitions=3), traits_1)\n"
   ]
  },
  {
   "cell_type": "code",
   "execution_count": 148,
   "metadata": {},
   "outputs": [],
   "source": [
    "reference_cols = [col for col in master_file_filtered.columns if not any(tr in col for tr in traits_1)]\n",
    "reference_table = master_file_filtered[reference_cols]\n",
    "reference_table = reference_table.drop(columns=['PEDIGREE'], axis=1)\n",
    "reference_table = reference_table.drop_duplicates(subset='PEDIGREE_NAME', keep='last') # there are duplicates"
   ]
  },
  {
   "cell_type": "code",
   "execution_count": 149,
   "metadata": {},
   "outputs": [],
   "source": [
    "diallel_table = utils.add_reference_dat(test, reference_table)"
   ]
  },
  {
   "cell_type": "code",
   "execution_count": 150,
   "metadata": {},
   "outputs": [],
   "source": [
    "diallel_table['clean_origin'] = diallel_table['P1_M.GERMPLASM.ORIGIN'] + '__' + diallel_table['P2_M.GERMPLASM.ORIGIN']\n",
    "diallel_table['clean_pedigree'] = diallel_table['P1_PEDIGREE'] + '__' + diallel_table['P2_PEDIGREE']"
   ]
  },
  {
   "cell_type": "code",
   "execution_count": 151,
   "metadata": {},
   "outputs": [],
   "source": [
    "with open('/mnt/TropicalSC/config.txt') as f:\n",
    "        DEFAULTS = json.loads(f.read())"
   ]
  },
  {
   "cell_type": "code",
   "execution_count": 152,
   "metadata": {},
   "outputs": [
    {
     "data": {
      "text/plain": [
       "{'Filters': {'diallel': {'rules': [{'trait': 'HETGP_GCV',\n",
       "     'operator': 'in',\n",
       "     'value': 'A_A,B_B,AB_AB,A_AB,B_AB,AB_A,AB_B'},\n",
       "    {'trait': 'SC_INBRDSTG_GCV',\n",
       "     'operator': 'in',\n",
       "     'value': 'PS1_SCR1,SCR1_PS1,PS1_SCR2,SCR2_PS1,PS1_PS1,PS2_SCR1,SCR1_PS2,PS2_SCR2,SCR2_PS2,PS2_PS1,PS1_PS2,PS2_PS2,PS2_PS3,PS3_PS2,PS2_PS4,PS4_PS2,PS2_CM,CM_PS2,PS3_SCR1,SCR1_PS3,PS3_SCR2,SCR2_PS3,PS3_PS1,PS1_PS3,PS3_PS3,PS3_PS4,PS4_PS3,PS3_CM,CM_PS3,PS4_SCR1,SCR1_PS4,PS4_SCR2,SCR2_PS4,PS4_PS1,PS1_PS4,PS4_PS4'}]}}}"
      ]
     },
     "execution_count": 152,
     "metadata": {},
     "output_type": "execute_result"
    }
   ],
   "source": [
    "DEFAULTS"
   ]
  },
  {
   "cell_type": "code",
   "execution_count": 153,
   "metadata": {},
   "outputs": [
    {
     "name": "stdout",
     "output_type": "stream",
     "text": [
      "HETGP_GCV\n",
      "SC_INBRDSTG_GCV\n",
      "diallel table: \n",
      "\t\tshape: (1378, 227)\n",
      "-----------------------------------\n",
      "HETGP_GCV in A_A,B_B,AB_AB,A_AB,B_AB,AB_A,AB_B \n",
      "\t\tshape: (748, 227)\n",
      "SC_INBRDSTG_GCV in PS1_SCR1,SCR1_PS1,PS1_SCR2,SCR2_PS1,PS1_PS1,PS2_SCR1,SCR1_PS2,PS2_SCR2,SCR2_PS2,PS2_PS1,PS1_PS2,PS2_PS2,PS2_PS3,PS3_PS2,PS2_PS4,PS4_PS2,PS2_CM,CM_PS2,PS3_SCR1,SCR1_PS3,PS3_SCR2,SCR2_PS3,PS3_PS1,PS1_PS3,PS3_PS3,PS3_PS4,PS4_PS3,PS3_CM,CM_PS3,PS4_SCR1,SCR1_PS4,PS4_SCR2,SCR2_PS4,PS4_PS1,PS1_PS4,PS4_PS4 \n",
      "\t\tshape: (619, 227)\n",
      "\n",
      "========= Writing Results to a Local folder =========\n"
     ]
    }
   ],
   "source": [
    "diallel_table = utils.create_column_combo(diallel_table, DEFAULTS)\n",
    "DataObject = collections.namedtuple('DataObject', 'data')\n",
    "in_source = {}\n",
    "in_source['diallel'] = DataObject(data = diallel_table)\n",
    "in_source_filtered = rf.apply_rules(in_source, DEFAULTS['Filters'])\n",
    "####################### Write results to a csv file\n",
    "print('\\n========= Writing Results to a Local folder =========')\n",
    "# in_source_filtered['diallel'].data.to_csv('/mnt/TropicalSC/diallel_table_filtered_threeyear.csv')"
   ]
  },
  {
   "cell_type": "code",
   "execution_count": 154,
   "metadata": {},
   "outputs": [],
   "source": [
    "# diallel_table.to_csv('/mnt/TropicalSC/dialle_table_full_three.csv')"
   ]
  },
  {
   "cell_type": "code",
   "execution_count": 155,
   "metadata": {},
   "outputs": [],
   "source": [
    "########## Check if an origin or a hybrid has been create in the past ############\n",
    "parentalTable['Pedigree_1'] = parentalTable['FemalePedigree'] + '__' + parentalTable['MalePedigree']\n",
    "parentalTable['Pedigree_2'] = parentalTable['MalePedigree'] + '__' + parentalTable['FemalePedigree']"
   ]
  },
  {
   "cell_type": "code",
   "execution_count": 156,
   "metadata": {},
   "outputs": [],
   "source": [
    "diallel_table['existing_status'] = [True if (x in parentalTable['Pedigree_1']) or (x in parentalTable['Pedigree_2']) else False for x in diallel_table['clean_pedigree']]"
   ]
  },
  {
   "cell_type": "code",
   "execution_count": 157,
   "metadata": {},
   "outputs": [],
   "source": [
    "diallel_table = rf.remove_same_origin(diallel_table)"
   ]
  },
  {
   "cell_type": "code",
   "execution_count": 159,
   "metadata": {},
   "outputs": [],
   "source": [
    "diallel_table.to_csv('/mnt/TropicalSC/dialle_table_full_oneyear_08122021.csv')"
   ]
  },
  {
   "cell_type": "code",
   "execution_count": 160,
   "metadata": {},
   "outputs": [],
   "source": [
    "in_source_filtered['diallel'].data.to_csv('/mnt/TropicalSC/diallel_table_filtered_oneyear_08122021.csv')"
   ]
  }
 ],
 "metadata": {
  "kernelspec": {
   "display_name": "Python 3",
   "language": "python",
   "name": "python3"
  },
  "language_info": {
   "codemirror_mode": {
    "name": "ipython",
    "version": 3
   },
   "file_extension": ".py",
   "mimetype": "text/x-python",
   "name": "python",
   "nbconvert_exporter": "python",
   "pygments_lexer": "ipython3",
   "version": "3.7.6"
  }
 },
 "nbformat": 4,
 "nbformat_minor": 2
}
